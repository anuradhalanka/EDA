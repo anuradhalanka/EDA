{
 "cells": [
  {
   "cell_type": "markdown",
   "id": "78e53c85-a897-4833-8761-e48e5aefe7c6",
   "metadata": {},
   "source": [
    "#### import packages :"
   ]
  },
  {
   "cell_type": "code",
   "execution_count": 2,
   "id": "5dfab257-3f56-466b-8efd-9e981706a101",
   "metadata": {},
   "outputs": [],
   "source": [
    "import pandas as pd\n",
    "import numpy as np\n",
    "import matplotlib.pyplot as plt\n",
    "import seaborn as sns"
   ]
  },
  {
   "cell_type": "markdown",
   "id": "ac345d77-5dcf-4895-91ff-d726cf52b6c8",
   "metadata": {},
   "source": [
    "#### Read the data from .csv file :"
   ]
  },
  {
   "cell_type": "code",
   "execution_count": 3,
   "id": "fe29d303-3546-4e39-a7db-12dd2958e81c",
   "metadata": {},
   "outputs": [
    {
     "data": {
      "text/html": [
       "<div>\n",
       "<style scoped>\n",
       "    .dataframe tbody tr th:only-of-type {\n",
       "        vertical-align: middle;\n",
       "    }\n",
       "\n",
       "    .dataframe tbody tr th {\n",
       "        vertical-align: top;\n",
       "    }\n",
       "\n",
       "    .dataframe thead th {\n",
       "        text-align: right;\n",
       "    }\n",
       "</style>\n",
       "<table border=\"1\" class=\"dataframe\">\n",
       "  <thead>\n",
       "    <tr style=\"text-align: right;\">\n",
       "      <th></th>\n",
       "      <th>case_id</th>\n",
       "      <th>continent</th>\n",
       "      <th>education_of_employee</th>\n",
       "      <th>has_job_experience</th>\n",
       "      <th>requires_job_training</th>\n",
       "      <th>no_of_employees</th>\n",
       "      <th>yr_of_estab</th>\n",
       "      <th>region_of_employment</th>\n",
       "      <th>prevailing_wage</th>\n",
       "      <th>unit_of_wage</th>\n",
       "      <th>full_time_position</th>\n",
       "      <th>case_status</th>\n",
       "    </tr>\n",
       "  </thead>\n",
       "  <tbody>\n",
       "    <tr>\n",
       "      <th>0</th>\n",
       "      <td>EZYV01</td>\n",
       "      <td>Asia</td>\n",
       "      <td>High School</td>\n",
       "      <td>N</td>\n",
       "      <td>N</td>\n",
       "      <td>14513</td>\n",
       "      <td>2007</td>\n",
       "      <td>West</td>\n",
       "      <td>592.2029</td>\n",
       "      <td>Hour</td>\n",
       "      <td>Y</td>\n",
       "      <td>Denied</td>\n",
       "    </tr>\n",
       "    <tr>\n",
       "      <th>1</th>\n",
       "      <td>EZYV02</td>\n",
       "      <td>Asia</td>\n",
       "      <td>Master's</td>\n",
       "      <td>Y</td>\n",
       "      <td>N</td>\n",
       "      <td>2412</td>\n",
       "      <td>2002</td>\n",
       "      <td>Northeast</td>\n",
       "      <td>83425.6500</td>\n",
       "      <td>Year</td>\n",
       "      <td>Y</td>\n",
       "      <td>Certified</td>\n",
       "    </tr>\n",
       "    <tr>\n",
       "      <th>2</th>\n",
       "      <td>EZYV03</td>\n",
       "      <td>Asia</td>\n",
       "      <td>Bachelor's</td>\n",
       "      <td>N</td>\n",
       "      <td>Y</td>\n",
       "      <td>44444</td>\n",
       "      <td>2008</td>\n",
       "      <td>West</td>\n",
       "      <td>122996.8600</td>\n",
       "      <td>Year</td>\n",
       "      <td>Y</td>\n",
       "      <td>Denied</td>\n",
       "    </tr>\n",
       "    <tr>\n",
       "      <th>3</th>\n",
       "      <td>EZYV04</td>\n",
       "      <td>Asia</td>\n",
       "      <td>Bachelor's</td>\n",
       "      <td>N</td>\n",
       "      <td>N</td>\n",
       "      <td>98</td>\n",
       "      <td>1897</td>\n",
       "      <td>West</td>\n",
       "      <td>83434.0300</td>\n",
       "      <td>Year</td>\n",
       "      <td>Y</td>\n",
       "      <td>Denied</td>\n",
       "    </tr>\n",
       "    <tr>\n",
       "      <th>4</th>\n",
       "      <td>EZYV05</td>\n",
       "      <td>Africa</td>\n",
       "      <td>Master's</td>\n",
       "      <td>Y</td>\n",
       "      <td>N</td>\n",
       "      <td>1082</td>\n",
       "      <td>2005</td>\n",
       "      <td>South</td>\n",
       "      <td>149907.3900</td>\n",
       "      <td>Year</td>\n",
       "      <td>Y</td>\n",
       "      <td>Certified</td>\n",
       "    </tr>\n",
       "    <tr>\n",
       "      <th>...</th>\n",
       "      <td>...</td>\n",
       "      <td>...</td>\n",
       "      <td>...</td>\n",
       "      <td>...</td>\n",
       "      <td>...</td>\n",
       "      <td>...</td>\n",
       "      <td>...</td>\n",
       "      <td>...</td>\n",
       "      <td>...</td>\n",
       "      <td>...</td>\n",
       "      <td>...</td>\n",
       "      <td>...</td>\n",
       "    </tr>\n",
       "    <tr>\n",
       "      <th>25475</th>\n",
       "      <td>EZYV25476</td>\n",
       "      <td>Asia</td>\n",
       "      <td>Bachelor's</td>\n",
       "      <td>Y</td>\n",
       "      <td>Y</td>\n",
       "      <td>2601</td>\n",
       "      <td>2008</td>\n",
       "      <td>South</td>\n",
       "      <td>77092.5700</td>\n",
       "      <td>Year</td>\n",
       "      <td>Y</td>\n",
       "      <td>Certified</td>\n",
       "    </tr>\n",
       "    <tr>\n",
       "      <th>25476</th>\n",
       "      <td>EZYV25477</td>\n",
       "      <td>Asia</td>\n",
       "      <td>High School</td>\n",
       "      <td>Y</td>\n",
       "      <td>N</td>\n",
       "      <td>3274</td>\n",
       "      <td>2006</td>\n",
       "      <td>Northeast</td>\n",
       "      <td>279174.7900</td>\n",
       "      <td>Year</td>\n",
       "      <td>Y</td>\n",
       "      <td>Certified</td>\n",
       "    </tr>\n",
       "    <tr>\n",
       "      <th>25477</th>\n",
       "      <td>EZYV25478</td>\n",
       "      <td>Asia</td>\n",
       "      <td>Master's</td>\n",
       "      <td>Y</td>\n",
       "      <td>N</td>\n",
       "      <td>1121</td>\n",
       "      <td>1910</td>\n",
       "      <td>South</td>\n",
       "      <td>146298.8500</td>\n",
       "      <td>Year</td>\n",
       "      <td>N</td>\n",
       "      <td>Certified</td>\n",
       "    </tr>\n",
       "    <tr>\n",
       "      <th>25478</th>\n",
       "      <td>EZYV25479</td>\n",
       "      <td>Asia</td>\n",
       "      <td>Master's</td>\n",
       "      <td>Y</td>\n",
       "      <td>Y</td>\n",
       "      <td>1918</td>\n",
       "      <td>1887</td>\n",
       "      <td>West</td>\n",
       "      <td>86154.7700</td>\n",
       "      <td>Year</td>\n",
       "      <td>Y</td>\n",
       "      <td>Certified</td>\n",
       "    </tr>\n",
       "    <tr>\n",
       "      <th>25479</th>\n",
       "      <td>EZYV25480</td>\n",
       "      <td>Asia</td>\n",
       "      <td>Bachelor's</td>\n",
       "      <td>Y</td>\n",
       "      <td>N</td>\n",
       "      <td>3195</td>\n",
       "      <td>1960</td>\n",
       "      <td>Midwest</td>\n",
       "      <td>70876.9100</td>\n",
       "      <td>Year</td>\n",
       "      <td>Y</td>\n",
       "      <td>Certified</td>\n",
       "    </tr>\n",
       "  </tbody>\n",
       "</table>\n",
       "<p>25480 rows × 12 columns</p>\n",
       "</div>"
      ],
      "text/plain": [
       "         case_id continent education_of_employee has_job_experience  \\\n",
       "0         EZYV01      Asia           High School                  N   \n",
       "1         EZYV02      Asia              Master's                  Y   \n",
       "2         EZYV03      Asia            Bachelor's                  N   \n",
       "3         EZYV04      Asia            Bachelor's                  N   \n",
       "4         EZYV05    Africa              Master's                  Y   \n",
       "...          ...       ...                   ...                ...   \n",
       "25475  EZYV25476      Asia            Bachelor's                  Y   \n",
       "25476  EZYV25477      Asia           High School                  Y   \n",
       "25477  EZYV25478      Asia              Master's                  Y   \n",
       "25478  EZYV25479      Asia              Master's                  Y   \n",
       "25479  EZYV25480      Asia            Bachelor's                  Y   \n",
       "\n",
       "      requires_job_training  no_of_employees  yr_of_estab  \\\n",
       "0                         N            14513         2007   \n",
       "1                         N             2412         2002   \n",
       "2                         Y            44444         2008   \n",
       "3                         N               98         1897   \n",
       "4                         N             1082         2005   \n",
       "...                     ...              ...          ...   \n",
       "25475                     Y             2601         2008   \n",
       "25476                     N             3274         2006   \n",
       "25477                     N             1121         1910   \n",
       "25478                     Y             1918         1887   \n",
       "25479                     N             3195         1960   \n",
       "\n",
       "      region_of_employment  prevailing_wage unit_of_wage full_time_position  \\\n",
       "0                     West         592.2029         Hour                  Y   \n",
       "1                Northeast       83425.6500         Year                  Y   \n",
       "2                     West      122996.8600         Year                  Y   \n",
       "3                     West       83434.0300         Year                  Y   \n",
       "4                    South      149907.3900         Year                  Y   \n",
       "...                    ...              ...          ...                ...   \n",
       "25475                South       77092.5700         Year                  Y   \n",
       "25476            Northeast      279174.7900         Year                  Y   \n",
       "25477                South      146298.8500         Year                  N   \n",
       "25478                 West       86154.7700         Year                  Y   \n",
       "25479              Midwest       70876.9100         Year                  Y   \n",
       "\n",
       "      case_status  \n",
       "0          Denied  \n",
       "1       Certified  \n",
       "2          Denied  \n",
       "3          Denied  \n",
       "4       Certified  \n",
       "...           ...  \n",
       "25475   Certified  \n",
       "25476   Certified  \n",
       "25477   Certified  \n",
       "25478   Certified  \n",
       "25479   Certified  \n",
       "\n",
       "[25480 rows x 12 columns]"
      ]
     },
     "execution_count": 3,
     "metadata": {},
     "output_type": "execute_result"
    }
   ],
   "source": [
    "visa_df=pd.read_csv(r\"C:\\Users\\Adireddy\\Documents\\Naresh IT Data Science & AI\\Data files\\visadataset - visadataset.csv\")\n",
    "visa_df"
   ]
  },
  {
   "cell_type": "markdown",
   "id": "15333030-2c21-4e11-ac83-19a5461d63b1",
   "metadata": {},
   "source": [
    "#### 'visa_df' is created DataFrame name"
   ]
  },
  {
   "cell_type": "markdown",
   "id": "0411ce80-2443-4d61-8961-30d1a552fa82",
   "metadata": {},
   "source": [
    "#### select numerical columns :"
   ]
  },
  {
   "cell_type": "code",
   "execution_count": 4,
   "id": "883104ca-c7e9-4e7c-a176-ae95892c40ce",
   "metadata": {},
   "outputs": [
    {
     "data": {
      "text/plain": [
       "Index(['no_of_employees', 'yr_of_estab', 'prevailing_wage'], dtype='object')"
      ]
     },
     "execution_count": 4,
     "metadata": {},
     "output_type": "execute_result"
    }
   ],
   "source": [
    "visa_df.select_dtypes(exclude='object').columns  # short cut to get categorical/numerical columns"
   ]
  },
  {
   "cell_type": "markdown",
   "id": "169f42c8-9c19-4070-b52f-5cf652702799",
   "metadata": {},
   "source": [
    "#### Do the below operations on 'prevailing_wage' column :"
   ]
  },
  {
   "cell_type": "markdown",
   "id": "d6127f1b-9d95-47f4-a8c2-b57f705e186e",
   "metadata": {},
   "source": [
    "- len\n",
    "- max\n",
    "- min\n",
    "- mean\n",
    "- median\n",
    "- std (standard deviation)\n",
    "- 75%\n",
    "- 50%\n",
    "- 25%"
   ]
  },
  {
   "cell_type": "markdown",
   "id": "ce022ff9-98d6-432f-aa2f-6f6d11144d40",
   "metadata": {},
   "source": [
    "#### count or len :"
   ]
  },
  {
   "cell_type": "code",
   "execution_count": 5,
   "id": "2d64abf1-6b21-42f6-a54e-ed2e5c685600",
   "metadata": {},
   "outputs": [
    {
     "data": {
      "text/plain": [
       "25480"
      ]
     },
     "execution_count": 5,
     "metadata": {},
     "output_type": "execute_result"
    }
   ],
   "source": [
    "len(visa_df['prevailing_wage'])  # to return the length of prevailing_wage column"
   ]
  },
  {
   "cell_type": "code",
   "execution_count": null,
   "id": "2e4395f7-ede5-42e9-acb4-25e6209b683a",
   "metadata": {},
   "outputs": [],
   "source": [
    "# can we use nunique instead of length?\n",
    "# answer is 'No'\n",
    "# How many unique values are different\n",
    "# How many total values are different"
   ]
  },
  {
   "cell_type": "markdown",
   "id": "936b5e8a-c984-490e-aa05-c0f3e72d7960",
   "metadata": {},
   "source": [
    "#### max :"
   ]
  },
  {
   "cell_type": "code",
   "execution_count": 6,
   "id": "18cd7cf1-cf2b-48a8-9704-1c119a42270d",
   "metadata": {},
   "outputs": [
    {
     "data": {
      "text/plain": [
       "319210.27"
      ]
     },
     "execution_count": 6,
     "metadata": {},
     "output_type": "execute_result"
    }
   ],
   "source": [
    "max(visa_df['prevailing_wage'])   # using keyword"
   ]
  },
  {
   "cell_type": "code",
   "execution_count": 7,
   "id": "eb55440e-ed1d-404a-acb8-cc8eaa6752f9",
   "metadata": {},
   "outputs": [
    {
     "data": {
      "text/plain": [
       "319210.27"
      ]
     },
     "execution_count": 7,
     "metadata": {},
     "output_type": "execute_result"
    }
   ],
   "source": [
    "visa_df['prevailing_wage'].max()   # using pandas"
   ]
  },
  {
   "cell_type": "code",
   "execution_count": 8,
   "id": "dc4dff94-f5fe-48b1-bfa0-b225b42580aa",
   "metadata": {},
   "outputs": [
    {
     "data": {
      "text/plain": [
       "319210.27"
      ]
     },
     "execution_count": 8,
     "metadata": {},
     "output_type": "execute_result"
    }
   ],
   "source": [
    "np.max(visa_df['prevailing_wage'])   # using numpy"
   ]
  },
  {
   "cell_type": "markdown",
   "id": "fe01f793-adf3-4121-9581-ef95b1ee1d6c",
   "metadata": {},
   "source": [
    "#### min :"
   ]
  },
  {
   "cell_type": "code",
   "execution_count": 9,
   "id": "f7558d7e-4da6-4af8-9c3f-510fa0b9bb26",
   "metadata": {},
   "outputs": [
    {
     "data": {
      "text/plain": [
       "2.1367"
      ]
     },
     "execution_count": 9,
     "metadata": {},
     "output_type": "execute_result"
    }
   ],
   "source": [
    "min(visa_df['prevailing_wage'])  # using keyword"
   ]
  },
  {
   "cell_type": "code",
   "execution_count": 10,
   "id": "87287830-1f67-4d96-8c63-50efe102e37a",
   "metadata": {},
   "outputs": [
    {
     "data": {
      "text/plain": [
       "2.1367"
      ]
     },
     "execution_count": 10,
     "metadata": {},
     "output_type": "execute_result"
    }
   ],
   "source": [
    "visa_df['prevailing_wage'].min()   # using pandas"
   ]
  },
  {
   "cell_type": "code",
   "execution_count": 11,
   "id": "a6d8fca5-f991-4e48-995c-d4f281c8373f",
   "metadata": {},
   "outputs": [
    {
     "data": {
      "text/plain": [
       "2.1367"
      ]
     },
     "execution_count": 11,
     "metadata": {},
     "output_type": "execute_result"
    }
   ],
   "source": [
    "np.min(visa_df['prevailing_wage'])    # using numpy"
   ]
  },
  {
   "cell_type": "markdown",
   "id": "27aaf16f-5a09-4191-9bcf-3ffbaf7b05d2",
   "metadata": {},
   "source": [
    "#### mean :"
   ]
  },
  {
   "cell_type": "code",
   "execution_count": 12,
   "id": "561b4a0b-cd30-4090-b034-78e44c20e498",
   "metadata": {},
   "outputs": [
    {
     "data": {
      "text/plain": [
       "74455.81459209183"
      ]
     },
     "execution_count": 12,
     "metadata": {},
     "output_type": "execute_result"
    }
   ],
   "source": [
    "visa_df['prevailing_wage'].mean()    # using pandas"
   ]
  },
  {
   "cell_type": "code",
   "execution_count": 13,
   "id": "39676568-5e4c-4eb4-b79f-42e12ff0c394",
   "metadata": {},
   "outputs": [
    {
     "data": {
      "text/plain": [
       "74455.81459209183"
      ]
     },
     "execution_count": 13,
     "metadata": {},
     "output_type": "execute_result"
    }
   ],
   "source": [
    "np.mean(visa_df['prevailing_wage'])   # using numpy"
   ]
  },
  {
   "cell_type": "markdown",
   "id": "10d5b852-5c7c-45c9-9f1a-629a63d3fa57",
   "metadata": {},
   "source": [
    "#### median :"
   ]
  },
  {
   "cell_type": "code",
   "execution_count": 14,
   "id": "c838eb14-fd8b-4d29-8dcf-139ed30ba450",
   "metadata": {},
   "outputs": [
    {
     "data": {
      "text/plain": [
       "70308.20999999999"
      ]
     },
     "execution_count": 14,
     "metadata": {},
     "output_type": "execute_result"
    }
   ],
   "source": [
    "visa_df['prevailing_wage'].median()   # using pandas"
   ]
  },
  {
   "cell_type": "code",
   "execution_count": 15,
   "id": "bc701cc9-a1ed-4803-a33b-0e8bae4c3dcb",
   "metadata": {},
   "outputs": [
    {
     "data": {
      "text/plain": [
       "70308.20999999999"
      ]
     },
     "execution_count": 15,
     "metadata": {},
     "output_type": "execute_result"
    }
   ],
   "source": [
    "np.median(visa_df['prevailing_wage'])   # using numpy"
   ]
  },
  {
   "cell_type": "markdown",
   "id": "1be02dd0-505c-452d-b8ea-3cfd9cf3a8df",
   "metadata": {},
   "source": [
    "#### std (standard deviation) :"
   ]
  },
  {
   "cell_type": "code",
   "execution_count": 16,
   "id": "f6caf5b7-2b50-41a4-86cd-22d39bec0d5d",
   "metadata": {},
   "outputs": [
    {
     "data": {
      "text/plain": [
       "52815.94232687357"
      ]
     },
     "execution_count": 16,
     "metadata": {},
     "output_type": "execute_result"
    }
   ],
   "source": [
    "visa_df['prevailing_wage'].std()   # using pandas"
   ]
  },
  {
   "cell_type": "code",
   "execution_count": 17,
   "id": "6df890dd-da5f-44d7-9ef0-68eae6839e69",
   "metadata": {},
   "outputs": [
    {
     "data": {
      "text/plain": [
       "52814.90589711402"
      ]
     },
     "execution_count": 17,
     "metadata": {},
     "output_type": "execute_result"
    }
   ],
   "source": [
    "np.std(visa_df['prevailing_wage'])   # using numpy"
   ]
  },
  {
   "cell_type": "markdown",
   "id": "dae8177b-e08a-4c16-a663-ca1870b1760e",
   "metadata": {},
   "source": [
    "#### mode is not a good option because it is a numerical variable"
   ]
  },
  {
   "cell_type": "code",
   "execution_count": 18,
   "id": "1f9f28ee-ba4f-4505-a470-774933b329e8",
   "metadata": {},
   "outputs": [
    {
     "data": {
      "text/html": [
       "<div>\n",
       "<style scoped>\n",
       "    .dataframe tbody tr th:only-of-type {\n",
       "        vertical-align: middle;\n",
       "    }\n",
       "\n",
       "    .dataframe tbody tr th {\n",
       "        vertical-align: top;\n",
       "    }\n",
       "\n",
       "    .dataframe thead th {\n",
       "        text-align: right;\n",
       "    }\n",
       "</style>\n",
       "<table border=\"1\" class=\"dataframe\">\n",
       "  <thead>\n",
       "    <tr style=\"text-align: right;\">\n",
       "      <th></th>\n",
       "      <th>prevailing_wage</th>\n",
       "    </tr>\n",
       "  </thead>\n",
       "  <tbody>\n",
       "    <tr>\n",
       "      <th>count</th>\n",
       "      <td>25480.00</td>\n",
       "    </tr>\n",
       "    <tr>\n",
       "      <th>min</th>\n",
       "      <td>2.14</td>\n",
       "    </tr>\n",
       "    <tr>\n",
       "      <th>max</th>\n",
       "      <td>319210.27</td>\n",
       "    </tr>\n",
       "    <tr>\n",
       "      <th>mean</th>\n",
       "      <td>74455.81</td>\n",
       "    </tr>\n",
       "    <tr>\n",
       "      <th>median</th>\n",
       "      <td>70308.21</td>\n",
       "    </tr>\n",
       "    <tr>\n",
       "      <th>std</th>\n",
       "      <td>52815.94</td>\n",
       "    </tr>\n",
       "  </tbody>\n",
       "</table>\n",
       "</div>"
      ],
      "text/plain": [
       "        prevailing_wage\n",
       "count          25480.00\n",
       "min                2.14\n",
       "max           319210.27\n",
       "mean           74455.81\n",
       "median         70308.21\n",
       "std            52815.94"
      ]
     },
     "execution_count": 18,
     "metadata": {},
     "output_type": "execute_result"
    }
   ],
   "source": [
    "# All together\n",
    "\n",
    "wage_count=round(len(visa_df['prevailing_wage']),2)   # to round all the values up to 2 decimal places\n",
    "wage_max=round(visa_df['prevailing_wage'].max(),2)\n",
    "wage_min=round(visa_df['prevailing_wage'].min(),2)\n",
    "wage_mean=round(visa_df['prevailing_wage'].mean(),2)\n",
    "wage_median=round(visa_df['prevailing_wage'].median(),2)\n",
    "wage_std=round(visa_df['prevailing_wage'].std(),2)\n",
    "\n",
    "# create a DataFrame\n",
    "\n",
    "list_values=[wage_count,wage_min,wage_max,wage_mean,wage_median,wage_std]\n",
    "index_val=['count','min','max','mean','median','std']\n",
    "pd.DataFrame(list_values,columns=['prevailing_wage'],index=index_val)\n",
    "\n",
    "# Note: You can take the empty list 'list_values=[]' and append values into the empty list\n",
    "# or directly take write values into list_values list"
   ]
  },
  {
   "cell_type": "markdown",
   "id": "9545e613-fee8-4a6a-9924-6a6acd66f35e",
   "metadata": {},
   "source": [
    "#### percentile and quantile :"
   ]
  },
  {
   "cell_type": "markdown",
   "id": "438c9eb4-9f29-4426-8201-4888e397a201",
   "metadata": {},
   "source": [
    "- percentile :\n",
    "    - np.percentile()       # do shift+tab to know what to pass inside ()\n",
    "    - It will take two arguments\n",
    "      - data : a\n",
    "      - percentile : q the values varies from 0 to 100\n",
    "      - if you want 50p data q=50\n",
    "      - syntax: np.percentile(data,percentile)\n",
    "        \n",
    "- quantile :\n",
    "    - np.quantile()\n",
    "    - It will take two arguments\n",
    "      - data : a\n",
    "      - percentile : q the values varies from 0 to 1\n",
    "      - if you want 50p data q=0.5\n",
    "      - syntax: np.quantile(data,percentile)"
   ]
  },
  {
   "cell_type": "markdown",
   "id": "5a4f8691-4f76-4f04-8bcc-0337f06bf4ae",
   "metadata": {},
   "source": [
    "#### 25p-50p-75p using percentile :"
   ]
  },
  {
   "cell_type": "code",
   "execution_count": 19,
   "id": "ab17fb10-9b3e-4518-a4c6-4bc2e256316d",
   "metadata": {},
   "outputs": [
    {
     "name": "stdout",
     "output_type": "stream",
     "text": [
      "The 25% data is 34015.48\n",
      "The 50% data is 70308.21\n",
      "The 75% data is 107735.51\n"
     ]
    }
   ],
   "source": [
    "# np.percentile(data,percentile)\n",
    "# percentile values varies from 0 to 100\n",
    "\n",
    "wage_25p=round(np.percentile(visa_df['prevailing_wage'],25),2)   \n",
    "wage_50p=round(np.percentile(visa_df['prevailing_wage'],50),2)\n",
    "wage_75p=round(np.percentile(visa_df['prevailing_wage'],75),2)\n",
    "\n",
    "print(f\"The 25% data is {wage_25p}\")\n",
    "print(f\"The 50% data is {wage_50p}\")\n",
    "print(f\"The 75% data is {wage_75p}\")"
   ]
  },
  {
   "cell_type": "markdown",
   "id": "1bc8310e-eaaf-4cc3-b69c-57e91641f6ef",
   "metadata": {},
   "source": [
    "#### 25p-50p-75p using quantile :"
   ]
  },
  {
   "cell_type": "code",
   "execution_count": 20,
   "id": "c8275c51-4400-4d05-bc0d-3dbe173bc9db",
   "metadata": {},
   "outputs": [
    {
     "name": "stdout",
     "output_type": "stream",
     "text": [
      "The 25% data is 34015.48\n",
      "The 50% data is 70308.21\n",
      "The 75% data is 107735.51\n"
     ]
    }
   ],
   "source": [
    "# np.quantile(data,percentile)\n",
    "# for quantile percentile values varies from 0 to 1\n",
    "\n",
    "wage_25p=round(np.quantile(visa_df['prevailing_wage'],0.25),2)\n",
    "wage_50p=round(np.quantile(visa_df['prevailing_wage'],0.50),2)\n",
    "wage_75p=round(np.quantile(visa_df['prevailing_wage'],0.75),2)\n",
    "\n",
    "print(f\"The 25% data is {wage_25p}\")\n",
    "print(f\"The 50% data is {wage_50p}\")\n",
    "print(f\"The 75% data is {wage_75p}\")"
   ]
  },
  {
   "cell_type": "markdown",
   "id": "1b64cc61-251f-42d0-9af3-820b70d914a7",
   "metadata": {},
   "source": [
    "#### understand the percentiles :"
   ]
  },
  {
   "cell_type": "markdown",
   "id": "cb3135d2-f614-40d5-88dc-4aa8cad3cdc4",
   "metadata": {},
   "source": [
    "- definition of 25 percentile :\n",
    "  - there are 25% of employees has salary less than 34015\n",
    "  - total employees=25480\n",
    "  - 25% of employees=25*25280/100=6370\n",
    "  - 6370 employees salary less than 34015"
   ]
  },
  {
   "cell_type": "markdown",
   "id": "0253a7c9-da3e-4593-981a-db534a6de585",
   "metadata": {},
   "source": [
    "#### check for 25 percentile :"
   ]
  },
  {
   "cell_type": "code",
   "execution_count": 21,
   "id": "60d7c749-ac5b-4468-b0ae-29a8fea67348",
   "metadata": {},
   "outputs": [
    {
     "data": {
      "text/plain": [
       "0           592.2029\n",
       "1         83425.6500\n",
       "2        122996.8600\n",
       "3         83434.0300\n",
       "4        149907.3900\n",
       "            ...     \n",
       "25475     77092.5700\n",
       "25476    279174.7900\n",
       "25477    146298.8500\n",
       "25478     86154.7700\n",
       "25479     70876.9100\n",
       "Name: prevailing_wage, Length: 25480, dtype: float64"
      ]
     },
     "execution_count": 21,
     "metadata": {},
     "output_type": "execute_result"
    }
   ],
   "source": [
    "visa_df['prevailing_wage']"
   ]
  },
  {
   "cell_type": "code",
   "execution_count": 22,
   "id": "e1bb5cab-7ddf-4d82-b250-ad657cd4276a",
   "metadata": {},
   "outputs": [
    {
     "data": {
      "text/plain": [
       "0         True\n",
       "1        False\n",
       "2        False\n",
       "3        False\n",
       "4        False\n",
       "         ...  \n",
       "25475    False\n",
       "25476    False\n",
       "25477    False\n",
       "25478    False\n",
       "25479    False\n",
       "Name: prevailing_wage, Length: 25480, dtype: bool"
      ]
     },
     "execution_count": 22,
     "metadata": {},
     "output_type": "execute_result"
    }
   ],
   "source": [
    "con=visa_df['prevailing_wage']<34015\n",
    "con"
   ]
  },
  {
   "cell_type": "code",
   "execution_count": 23,
   "id": "1b7eb2b3-98d3-409d-bda7-2a698d23f116",
   "metadata": {},
   "outputs": [
    {
     "data": {
      "text/plain": [
       "6370"
      ]
     },
     "execution_count": 23,
     "metadata": {},
     "output_type": "execute_result"
    }
   ],
   "source": [
    "len(visa_df[con])"
   ]
  },
  {
   "cell_type": "code",
   "execution_count": 24,
   "id": "bcad62f9-c98f-4629-9a4a-75ab38d64ff2",
   "metadata": {},
   "outputs": [
    {
     "data": {
      "text/plain": [
       "6370"
      ]
     },
     "execution_count": 24,
     "metadata": {},
     "output_type": "execute_result"
    }
   ],
   "source": [
    "con=visa_df['prevailing_wage']<wage_25p   # instead of 34015 you can give wage-25p directly as well\n",
    "len(visa_df[con])"
   ]
  },
  {
   "cell_type": "markdown",
   "id": "29b7473b-00cf-44f3-b4a5-99c1d7bb1f56",
   "metadata": {},
   "source": [
    "#### check for 50 percentile :"
   ]
  },
  {
   "cell_type": "code",
   "execution_count": 25,
   "id": "e8242eba-c235-4431-b3b9-fad501d7153b",
   "metadata": {},
   "outputs": [
    {
     "data": {
      "text/plain": [
       "12740"
      ]
     },
     "execution_count": 25,
     "metadata": {},
     "output_type": "execute_result"
    }
   ],
   "source": [
    "con=visa_df['prevailing_wage']<wage_50p\n",
    "len(visa_df[con])   # 50*25480/100"
   ]
  },
  {
   "cell_type": "markdown",
   "id": "4dceda9a-12b0-42ab-b390-a41a6bdb95db",
   "metadata": {},
   "source": [
    "#### check for 75 percentile :"
   ]
  },
  {
   "cell_type": "code",
   "execution_count": 26,
   "id": "cbac555a-b5d6-4e94-aa23-307c051816cb",
   "metadata": {},
   "outputs": [
    {
     "data": {
      "text/plain": [
       "19110"
      ]
     },
     "execution_count": 26,
     "metadata": {},
     "output_type": "execute_result"
    }
   ],
   "source": [
    "con=visa_df['prevailing_wage']<wage_75p\n",
    "len(visa_df[con])   # 75*25480/100"
   ]
  },
  {
   "cell_type": "markdown",
   "id": "c87d8312-9fd1-44ec-92fe-7043442d88e4",
   "metadata": {},
   "source": [
    "#### Emperical rule (68-95-99.7):"
   ]
  },
  {
   "cell_type": "markdown",
   "id": "f8347edb-f65a-44a1-8bab-1c8b7d98bd38",
   "metadata": {},
   "source": [
    "- First calculate mean value\n",
    "- Second calculate std (standard deviation) value\n",
    "- con1: mean-1*std\n",
    "- con2: mean+1*std\n",
    "- If you apply above conditions on wage data, \n",
    "- the output count should be equal to 68% percentile data\n",
    "- 68% of total employees: 68*25480/100=17326"
   ]
  },
  {
   "cell_type": "code",
   "execution_count": 28,
   "id": "1a86deb1-0ba9-4b5a-9f2d-940bb7f36324",
   "metadata": {},
   "outputs": [
    {
     "data": {
      "text/plain": [
       "(17171, 17326.4)"
      ]
     },
     "execution_count": 28,
     "metadata": {},
     "output_type": "execute_result"
    }
   ],
   "source": [
    "v1=wage_mean-1*wage_std\n",
    "v2=wage_mean+1*wage_std\n",
    "v1,v2\n",
    "con1=visa_df['prevailing_wage']>v1\n",
    "con2=visa_df['prevailing_wage']<v2\n",
    "count1=len(visa_df[con1 & con2])\n",
    "count1,68*25480/100"
   ]
  },
  {
   "cell_type": "markdown",
   "id": "bdf5a61b-f628-44f5-9f95-53336a85841a",
   "metadata": {},
   "source": [
    "- both values almost equal, there is small difference, may be data is skewed\n",
    "- if it is normal distribution both values should be equal"
   ]
  },
  {
   "cell_type": "code",
   "execution_count": 32,
   "id": "c750685a-2be5-4fab-9c6f-811e3690aa05",
   "metadata": {},
   "outputs": [
    {
     "data": {
      "text/plain": [
       "(24582, 24206.0)"
      ]
     },
     "execution_count": 32,
     "metadata": {},
     "output_type": "execute_result"
    }
   ],
   "source": [
    "v1=wage_mean-2*wage_std\n",
    "v2=wage_mean+2*wage_std\n",
    "con1=visa_df['prevailing_wage']>v1\n",
    "con2=visa_df['prevailing_wage']<v2\n",
    "count2=len(visa_df[con1 & con2])\n",
    "count2,95*25480/100"
   ]
  },
  {
   "cell_type": "code",
   "execution_count": 33,
   "id": "4f8bb6c5-c6b5-4448-9e7e-ae1b6ced8b2c",
   "metadata": {},
   "outputs": [
    {
     "data": {
      "text/plain": [
       "(25186, 25403.56)"
      ]
     },
     "execution_count": 33,
     "metadata": {},
     "output_type": "execute_result"
    }
   ],
   "source": [
    "v1=wage_mean-3*wage_std\n",
    "v2=wage_mean+3*wage_std\n",
    "con1=visa_df['prevailing_wage']>v1\n",
    "con2=visa_df['prevailing_wage']<v2\n",
    "count3=len(visa_df[con1 & con2])\n",
    "count3,99.7*25480/100           "
   ]
  },
  {
   "cell_type": "code",
   "execution_count": 36,
   "id": "774130e6-6f0c-4f1b-ab2e-4c2f878bfdc7",
   "metadata": {},
   "outputs": [
    {
     "data": {
      "text/html": [
       "<div>\n",
       "<style scoped>\n",
       "    .dataframe tbody tr th:only-of-type {\n",
       "        vertical-align: middle;\n",
       "    }\n",
       "\n",
       "    .dataframe tbody tr th {\n",
       "        vertical-align: top;\n",
       "    }\n",
       "\n",
       "    .dataframe thead th {\n",
       "        text-align: right;\n",
       "    }\n",
       "</style>\n",
       "<table border=\"1\" class=\"dataframe\">\n",
       "  <thead>\n",
       "    <tr style=\"text-align: right;\">\n",
       "      <th></th>\n",
       "      <th>prevailing_wage</th>\n",
       "    </tr>\n",
       "  </thead>\n",
       "  <tbody>\n",
       "    <tr>\n",
       "      <th>count</th>\n",
       "      <td>25480.00</td>\n",
       "    </tr>\n",
       "    <tr>\n",
       "      <th>min</th>\n",
       "      <td>2.14</td>\n",
       "    </tr>\n",
       "    <tr>\n",
       "      <th>max</th>\n",
       "      <td>319210.27</td>\n",
       "    </tr>\n",
       "    <tr>\n",
       "      <th>mean</th>\n",
       "      <td>74455.81</td>\n",
       "    </tr>\n",
       "    <tr>\n",
       "      <th>median</th>\n",
       "      <td>70308.21</td>\n",
       "    </tr>\n",
       "    <tr>\n",
       "      <th>std</th>\n",
       "      <td>52815.94</td>\n",
       "    </tr>\n",
       "    <tr>\n",
       "      <th>25%</th>\n",
       "      <td>34015.48</td>\n",
       "    </tr>\n",
       "    <tr>\n",
       "      <th>50%</th>\n",
       "      <td>70308.21</td>\n",
       "    </tr>\n",
       "    <tr>\n",
       "      <th>75%</th>\n",
       "      <td>107735.51</td>\n",
       "    </tr>\n",
       "  </tbody>\n",
       "</table>\n",
       "</div>"
      ],
      "text/plain": [
       "        prevailing_wage\n",
       "count          25480.00\n",
       "min                2.14\n",
       "max           319210.27\n",
       "mean           74455.81\n",
       "median         70308.21\n",
       "std            52815.94\n",
       "25%            34015.48\n",
       "50%            70308.21\n",
       "75%           107735.51"
      ]
     },
     "execution_count": 36,
     "metadata": {},
     "output_type": "execute_result"
    }
   ],
   "source": [
    "# All together\n",
    "wage_count=round(len(visa_df['prevailing_wage']),2)\n",
    "wage_min=round(visa_df['prevailing_wage'].min(),2)\n",
    "wage_max=round(visa_df['prevailing_wage'].max(),2)\n",
    "wage_mean=round(visa_df['prevailing_wage'].mean(),2)\n",
    "wage_median=round(visa_df['prevailing_wage'].median(),2)\n",
    "wage_std=round(visa_df['prevailing_wage'].std(),2)\n",
    "##################################################################\n",
    "wage_25p=round(np.quantile(visa_df['prevailing_wage'],0.25),2)\n",
    "wage_50p=round(np.quantile(visa_df['prevailing_wage'],0.50),2)\n",
    "wage_75p=round(np.quantile(visa_df['prevailing_wage'],0.75),2)\n",
    "###########################################################################\n",
    "list_values=[wage_count,wage_min,wage_max,\n",
    "             wage_mean,wage_median,wage_std,\n",
    "             wage_25p,wage_50p,wage_75p]\n",
    "index_val=['count','min','max',\n",
    "           'mean','median','std',\n",
    "           '25%','50%','75%']\n",
    "pd.DataFrame(list_values,\n",
    "             columns=['prevailing_wage'],\n",
    "             index=index_val)\n",
    "\n",
    "# in the o/p median & 50p both are same"
   ]
  },
  {
   "cell_type": "markdown",
   "id": "5e3096e7-c5f9-4726-9522-0ed2a6dc213f",
   "metadata": {},
   "source": [
    "#### Create a DataFrame for all numerical columns in visa_df :"
   ]
  },
  {
   "cell_type": "code",
   "execution_count": 40,
   "id": "07be410c-f19b-43e4-b90b-5d9fed93131f",
   "metadata": {},
   "outputs": [
    {
     "data": {
      "text/html": [
       "<div>\n",
       "<style scoped>\n",
       "    .dataframe tbody tr th:only-of-type {\n",
       "        vertical-align: middle;\n",
       "    }\n",
       "\n",
       "    .dataframe tbody tr th {\n",
       "        vertical-align: top;\n",
       "    }\n",
       "\n",
       "    .dataframe thead th {\n",
       "        text-align: right;\n",
       "    }\n",
       "</style>\n",
       "<table border=\"1\" class=\"dataframe\">\n",
       "  <thead>\n",
       "    <tr style=\"text-align: right;\">\n",
       "      <th></th>\n",
       "      <th>no_of_employees</th>\n",
       "      <th>yr_of_estab</th>\n",
       "      <th>prevailing_wage</th>\n",
       "    </tr>\n",
       "  </thead>\n",
       "  <tbody>\n",
       "    <tr>\n",
       "      <th>count</th>\n",
       "      <td>25480.00</td>\n",
       "      <td>25480.00</td>\n",
       "      <td>25480.00</td>\n",
       "    </tr>\n",
       "    <tr>\n",
       "      <th>min</th>\n",
       "      <td>-26.00</td>\n",
       "      <td>1800.00</td>\n",
       "      <td>2.14</td>\n",
       "    </tr>\n",
       "    <tr>\n",
       "      <th>max</th>\n",
       "      <td>602069.00</td>\n",
       "      <td>2016.00</td>\n",
       "      <td>319210.27</td>\n",
       "    </tr>\n",
       "    <tr>\n",
       "      <th>mean</th>\n",
       "      <td>5667.04</td>\n",
       "      <td>1979.41</td>\n",
       "      <td>74455.81</td>\n",
       "    </tr>\n",
       "    <tr>\n",
       "      <th>median</th>\n",
       "      <td>2109.00</td>\n",
       "      <td>1997.00</td>\n",
       "      <td>70308.21</td>\n",
       "    </tr>\n",
       "    <tr>\n",
       "      <th>std</th>\n",
       "      <td>22877.93</td>\n",
       "      <td>42.37</td>\n",
       "      <td>52815.94</td>\n",
       "    </tr>\n",
       "    <tr>\n",
       "      <th>25%</th>\n",
       "      <td>1022.00</td>\n",
       "      <td>1976.00</td>\n",
       "      <td>34015.48</td>\n",
       "    </tr>\n",
       "    <tr>\n",
       "      <th>50%</th>\n",
       "      <td>2109.00</td>\n",
       "      <td>1997.00</td>\n",
       "      <td>70308.21</td>\n",
       "    </tr>\n",
       "    <tr>\n",
       "      <th>75%</th>\n",
       "      <td>3504.00</td>\n",
       "      <td>2005.00</td>\n",
       "      <td>107735.51</td>\n",
       "    </tr>\n",
       "  </tbody>\n",
       "</table>\n",
       "</div>"
      ],
      "text/plain": [
       "        no_of_employees  yr_of_estab  prevailing_wage\n",
       "count          25480.00     25480.00         25480.00\n",
       "min              -26.00      1800.00             2.14\n",
       "max           602069.00      2016.00        319210.27\n",
       "mean            5667.04      1979.41         74455.81\n",
       "median          2109.00      1997.00         70308.21\n",
       "std            22877.93        42.37         52815.94\n",
       "25%             1022.00      1976.00         34015.48\n",
       "50%             2109.00      1997.00         70308.21\n",
       "75%             3504.00      2005.00        107735.51"
      ]
     },
     "execution_count": 40,
     "metadata": {},
     "output_type": "execute_result"
    }
   ],
   "source": [
    "l1=[]   # create an empty list\n",
    "cols=visa_df.select_dtypes(exclude='object').columns   # to return numerical columns\n",
    "for i in cols:\n",
    "    countt=round(len(visa_df[i]),2)\n",
    "    minn=round(visa_df[i].min(),2)\n",
    "    maxx=round(visa_df[i].max(),2)\n",
    "    mean=round(visa_df[i].mean(),2)\n",
    "    median=round(visa_df[i].median(),2)\n",
    "    std=round(visa_df[i].std(),2)\n",
    "##################################################################\n",
    "    p_25=round(np.quantile(visa_df[i],0.25),2)\n",
    "    p_50=round(np.quantile(visa_df[i],0.50),2)\n",
    "    p_75=round(np.quantile(visa_df[i],0.75),2)\n",
    "###########################################################################\n",
    "    l1.append([countt,minn,maxx,\n",
    "             mean,median,std,\n",
    "             p_25,p_50,p_75])\n",
    "index_val=['count','min','max',\n",
    "           'mean','median','std',\n",
    "           '25%','50%','75%']\n",
    "df=pd.DataFrame(l1,\n",
    "             columns=index_val,\n",
    "             index=cols).T      # T means transpose, used to reverse rows and columns\n",
    "df"
   ]
  },
  {
   "cell_type": "code",
   "execution_count": null,
   "id": "6f2da5a4-e3e4-452d-88fa-10243ee8f6d6",
   "metadata": {},
   "outputs": [],
   "source": [
    "# whatever we did till now will increase our python skills"
   ]
  },
  {
   "cell_type": "markdown",
   "id": "5826118b-40f2-43d0-a742-1e65d2458b93",
   "metadata": {},
   "source": [
    "#### Describe :"
   ]
  },
  {
   "cell_type": "markdown",
   "id": "4aa39e69-07fd-427c-b188-2b4b6e276c2a",
   "metadata": {},
   "source": [
    "- It is used for only numerical data\n",
    "- this is the short cut for the above problem creating dataframe for all numerical columns\n",
    "- we can't use round off here\n",
    "- maintaining the order as well"
   ]
  },
  {
   "cell_type": "code",
   "execution_count": 41,
   "id": "237d4ba8-0cb9-42ab-8994-34edefbdbe31",
   "metadata": {},
   "outputs": [
    {
     "data": {
      "text/html": [
       "<div>\n",
       "<style scoped>\n",
       "    .dataframe tbody tr th:only-of-type {\n",
       "        vertical-align: middle;\n",
       "    }\n",
       "\n",
       "    .dataframe tbody tr th {\n",
       "        vertical-align: top;\n",
       "    }\n",
       "\n",
       "    .dataframe thead th {\n",
       "        text-align: right;\n",
       "    }\n",
       "</style>\n",
       "<table border=\"1\" class=\"dataframe\">\n",
       "  <thead>\n",
       "    <tr style=\"text-align: right;\">\n",
       "      <th></th>\n",
       "      <th>no_of_employees</th>\n",
       "      <th>yr_of_estab</th>\n",
       "      <th>prevailing_wage</th>\n",
       "    </tr>\n",
       "  </thead>\n",
       "  <tbody>\n",
       "    <tr>\n",
       "      <th>count</th>\n",
       "      <td>25480.000000</td>\n",
       "      <td>25480.000000</td>\n",
       "      <td>25480.000000</td>\n",
       "    </tr>\n",
       "    <tr>\n",
       "      <th>mean</th>\n",
       "      <td>5667.043210</td>\n",
       "      <td>1979.409929</td>\n",
       "      <td>74455.814592</td>\n",
       "    </tr>\n",
       "    <tr>\n",
       "      <th>std</th>\n",
       "      <td>22877.928848</td>\n",
       "      <td>42.366929</td>\n",
       "      <td>52815.942327</td>\n",
       "    </tr>\n",
       "    <tr>\n",
       "      <th>min</th>\n",
       "      <td>-26.000000</td>\n",
       "      <td>1800.000000</td>\n",
       "      <td>2.136700</td>\n",
       "    </tr>\n",
       "    <tr>\n",
       "      <th>25%</th>\n",
       "      <td>1022.000000</td>\n",
       "      <td>1976.000000</td>\n",
       "      <td>34015.480000</td>\n",
       "    </tr>\n",
       "    <tr>\n",
       "      <th>50%</th>\n",
       "      <td>2109.000000</td>\n",
       "      <td>1997.000000</td>\n",
       "      <td>70308.210000</td>\n",
       "    </tr>\n",
       "    <tr>\n",
       "      <th>75%</th>\n",
       "      <td>3504.000000</td>\n",
       "      <td>2005.000000</td>\n",
       "      <td>107735.512500</td>\n",
       "    </tr>\n",
       "    <tr>\n",
       "      <th>max</th>\n",
       "      <td>602069.000000</td>\n",
       "      <td>2016.000000</td>\n",
       "      <td>319210.270000</td>\n",
       "    </tr>\n",
       "  </tbody>\n",
       "</table>\n",
       "</div>"
      ],
      "text/plain": [
       "       no_of_employees   yr_of_estab  prevailing_wage\n",
       "count     25480.000000  25480.000000     25480.000000\n",
       "mean       5667.043210   1979.409929     74455.814592\n",
       "std       22877.928848     42.366929     52815.942327\n",
       "min         -26.000000   1800.000000         2.136700\n",
       "25%        1022.000000   1976.000000     34015.480000\n",
       "50%        2109.000000   1997.000000     70308.210000\n",
       "75%        3504.000000   2005.000000    107735.512500\n",
       "max      602069.000000   2016.000000    319210.270000"
      ]
     },
     "execution_count": 41,
     "metadata": {},
     "output_type": "execute_result"
    }
   ],
   "source": [
    "visa_df.describe()"
   ]
  },
  {
   "cell_type": "markdown",
   "id": "5417cbdb-332b-4785-bb1e-3f509809754d",
   "metadata": {},
   "source": [
    "#### Histogram :\n",
    "- Histogram we can get by using matplotlib\n",
    "- Histogram we can get by using seaborn also\n",
    "- plt.hist()"
   ]
  },
  {
   "cell_type": "code",
   "execution_count": 42,
   "id": "82af5dec-d682-42d4-9e2f-4959411df9c7",
   "metadata": {},
   "outputs": [
    {
     "data": {
      "text/plain": [
       "(array([6038., 5504., 5681., 4551., 2334.,  624.,  373.,  240.,  114.,\n",
       "          21.]),\n",
       " array([2.13670000e+00, 3.19229500e+04, 6.38437634e+04, 9.57645767e+04,\n",
       "        1.27685390e+05, 1.59606203e+05, 1.91527017e+05, 2.23447830e+05,\n",
       "        2.55368643e+05, 2.87289457e+05, 3.19210270e+05]),\n",
       " <BarContainer object of 10 artists>)"
      ]
     },
     "execution_count": 42,
     "metadata": {},
     "output_type": "execute_result"
    },
    {
     "data": {
      "image/png": "[encoded data removed]",
      "text/plain": [
       "<Figure size 640x480 with 1 Axes>"
      ]
     },
     "metadata": {},
     "output_type": "display_data"
    }
   ],
   "source": [
    "import matplotlib.pyplot as plt\n",
    "plt.hist(visa_df['prevailing_wage'])"
   ]
  },
  {
   "cell_type": "code",
   "execution_count": null,
   "id": "2a9f87ed-9e2e-44ed-9d1d-3df463ceaa81",
   "metadata": {},
   "outputs": [],
   "source": [
    "# if you observe the histgram to get 10 intervals, 11 values are required\n",
    "# check the number of values above the histogram in the english lines"
   ]
  },
  {
   "cell_type": "markdown",
   "id": "a2b8069e-bffd-46a1-ad44-afc74b165750",
   "metadata": {},
   "source": [
    "- From interval range\n",
    "  - 2.13670000e+00 to 3.19229500e+04\n",
    "     - 6038 members have salary between the above range\n",
    "  - 3.19229500e+04 to 6.38437634e+04\n",
    "     - 5504 members have salary between the above range\n",
    "- Histogram will give 3 outputs\n",
    "  - frequency\n",
    "    - in each interval range how many observations are there\n",
    "  - interval\n",
    "    - interval range\n",
    "  - number of intervals"
   ]
  },
  {
   "cell_type": "markdown",
   "id": "e069e813-248b-4777-be41-0baf0f257f14",
   "metadata": {},
   "source": [
    "#### check point-1 :"
   ]
  },
  {
   "cell_type": "code",
   "execution_count": 46,
   "id": "8b577c7b-caa3-4bfe-8f88-eb9eea6855bf",
   "metadata": {},
   "outputs": [
    {
     "data": {
      "text/plain": [
       "(2.1367, 31922.95)"
      ]
     },
     "execution_count": 46,
     "metadata": {},
     "output_type": "execute_result"
    }
   ],
   "source": [
    "2.13670000e+00, 3.19229500e+04"
   ]
  },
  {
   "cell_type": "code",
   "execution_count": 48,
   "id": "9e2bb351-8b9f-4e1a-bb41-d312bf4bf053",
   "metadata": {},
   "outputs": [
    {
     "data": {
      "text/plain": [
       "6038"
      ]
     },
     "execution_count": 48,
     "metadata": {},
     "output_type": "execute_result"
    }
   ],
   "source": [
    "# to check 6038 members are there exactly between those two ranges\n",
    "\n",
    "con1=visa_df['prevailing_wage']>=2.1367\n",
    "con2=visa_df['prevailing_wage']<31922.95\n",
    "len(visa_df[con1&con2])"
   ]
  },
  {
   "cell_type": "markdown",
   "id": "2a29bf5a-98ac-4f96-b23f-c5d36aa1c3dd",
   "metadata": {},
   "source": [
    "#### Bins :"
   ]
  },
  {
   "cell_type": "code",
   "execution_count": 51,
   "id": "d62e41f8-8371-4739-8732-4a154b436654",
   "metadata": {},
   "outputs": [
    {
     "name": "stdout",
     "output_type": "stream",
     "text": [
      "[2992.  871. 1005. 1170. 1242. 1434. 1385. 1443. 1444. 1445. 1457. 1335.\n",
      " 1268. 1217. 1088.  978.  807.  645.  509.  373.  264.  144.  105.  111.\n",
      "  107.   99.   88.   79.   65.   64.   58.   53.   33.   33.   29.   19.\n",
      "    7.    3.    6.    5.]\n",
      "[2.13670000e+00 7.98234003e+03 1.59625434e+04 2.39427467e+04\n",
      " 3.19229500e+04 3.99031534e+04 4.78833567e+04 5.58635600e+04\n",
      " 6.38437634e+04 7.18239667e+04 7.98041700e+04 8.77843734e+04\n",
      " 9.57645767e+04 1.03744780e+05 1.11724983e+05 1.19705187e+05\n",
      " 1.27685390e+05 1.35665593e+05 1.43645797e+05 1.51626000e+05\n",
      " 1.59606203e+05 1.67586407e+05 1.75566610e+05 1.83546813e+05\n",
      " 1.91527017e+05 1.99507220e+05 2.07487423e+05 2.15467627e+05\n",
      " 2.23447830e+05 2.31428033e+05 2.39408237e+05 2.47388440e+05\n",
      " 2.55368643e+05 2.63348847e+05 2.71329050e+05 2.79309253e+05\n",
      " 2.87289457e+05 2.95269660e+05 3.03249863e+05 3.11230067e+05\n",
      " 3.19210270e+05]\n",
      "<BarContainer object of 40 artists>\n"
     ]
    },
    {
     "data": {
      "image/png": "[encoded data removed]",
      "text/plain": [
       "<Figure size 640x480 with 1 Axes>"
      ]
     },
     "metadata": {},
     "output_type": "display_data"
    }
   ],
   "source": [
    "import matplotlib.pyplot as plt\n",
    "f,i,n=plt.hist(visa_df['prevailing_wage'],bins=40)\n",
    "print(f)\n",
    "print(i)\n",
    "print(n)\n",
    "\n",
    "# f: frequency, i: interval, n: number of intervals"
   ]
  },
  {
   "cell_type": "code",
   "execution_count": 52,
   "id": "f93158bb-6d45-4859-838a-81b7ece026d8",
   "metadata": {},
   "outputs": [
    {
     "data": {
      "image/png": "[encoded data removed]",
      "text/plain": [
       "<Figure size 640x480 with 1 Axes>"
      ]
     },
     "metadata": {},
     "output_type": "display_data"
    }
   ],
   "source": [
    "import matplotlib.pyplot as plt\n",
    "plt.hist(visa_df['prevailing_wage'],bins=40)\n",
    "plt.title(\"Histogram\")\n",
    "plt.xlabel(\"class Interval\")\n",
    "plt.ylabel(\"count\")\n",
    "plt.show()"
   ]
  },
  {
   "cell_type": "code",
   "execution_count": 53,
   "id": "ff17dd60-6cf1-4346-ac09-6a57364dfd41",
   "metadata": {},
   "outputs": [
    {
     "data": {
      "text/plain": [
       "Index(['no_of_employees', 'yr_of_estab', 'prevailing_wage'], dtype='object')"
      ]
     },
     "execution_count": 53,
     "metadata": {},
     "output_type": "execute_result"
    }
   ],
   "source": [
    "cols"
   ]
  },
  {
   "cell_type": "markdown",
   "id": "8cac9e75-db51-475a-98b5-912fc4070ff7",
   "metadata": {},
   "source": [
    "#### subplots :"
   ]
  },
  {
   "cell_type": "code",
   "execution_count": 55,
   "id": "d011c3b6-d037-40f2-8d9c-e47cd4a7276f",
   "metadata": {},
   "outputs": [
    {
     "data": {
      "text/plain": [
       "Text(0, 0.5, 'count')"
      ]
     },
     "execution_count": 55,
     "metadata": {},
     "output_type": "execute_result"
    },
    {
     "data": {
      "image/png": "[encoded data removed]",
      "text/plain": [
       "<Figure size 1800x300 with 3 Axes>"
      ]
     },
     "metadata": {},
     "output_type": "display_data"
    }
   ],
   "source": [
    "# for subplots we need to remove plt.show()\n",
    "\n",
    "import matplotlib.pyplot as plt\n",
    "plt.figure(figsize=(18,3))\n",
    "plt.subplot(1,3,1)\n",
    "plt.hist(visa_df['prevailing_wage'],bins=40)\n",
    "plt.title(\"Histogram\")\n",
    "plt.xlabel(\"class Interval\")\n",
    "plt.ylabel(\"count\")\n",
    "\n",
    "plt.subplot(1,3,2)\n",
    "plt.hist(visa_df['yr_of_estab'],bins=40)\n",
    "plt.title(\"Histogram\")\n",
    "plt.xlabel(\"class Interval\")\n",
    "plt.ylabel(\"count\")\n",
    "\n",
    "plt.subplot(1,3,3)\n",
    "plt.hist(visa_df['no_of_employees'],bins=40)\n",
    "plt.title(\"Histogram\")\n",
    "plt.xlabel(\"class Interval\")\n",
    "plt.ylabel(\"count\")"
   ]
  },
  {
   "cell_type": "code",
   "execution_count": 56,
   "id": "a634fc2a-2a38-4cee-b8ee-89e62bfd9b8e",
   "metadata": {},
   "outputs": [
    {
     "data": {
      "text/plain": [
       "Index(['no_of_employees', 'yr_of_estab', 'prevailing_wage'], dtype='object')"
      ]
     },
     "execution_count": 56,
     "metadata": {},
     "output_type": "execute_result"
    }
   ],
   "source": [
    "cols=visa_df.select_dtypes(exclude='object').columns\n",
    "cols"
   ]
  },
  {
   "cell_type": "code",
   "execution_count": 57,
   "id": "ecf7ffa4-9154-4c0e-8901-a09f24ea144f",
   "metadata": {},
   "outputs": [
    {
     "data": {
      "image/png": "[encoded data removed]",
      "text/plain": [
       "<Figure size 1800x300 with 3 Axes>"
      ]
     },
     "metadata": {},
     "output_type": "display_data"
    }
   ],
   "source": [
    "import matplotlib.pyplot as plt\n",
    "plt.figure(figsize=(18,3))\n",
    "for i in range(len(cols)):          # start=0,last=len(cols)-1\n",
    "    plt.subplot(1,len(cols),i+1)    # (1,3,1),(1,3,2),(1,3,3)\n",
    "    plt.hist(visa_df[cols[i]],bins=40)\n",
    "    plt.title(\"Histogram of {cols[i]}\")\n",
    "    plt.xlabel(\"class Interval\")\n",
    "    plt.ylabel(\"count\")"
   ]
  },
  {
   "cell_type": "markdown",
   "id": "8a61eeb4-d681-430a-a552-baacec5cbd46",
   "metadata": {},
   "source": [
    "#### Histogram using seaborn :\n",
    "- histplot\n",
    "- distplot"
   ]
  },
  {
   "cell_type": "code",
   "execution_count": 58,
   "id": "3a0857e8-fe3f-461f-ab82-15b27e63c5e6",
   "metadata": {},
   "outputs": [
    {
     "name": "stderr",
     "output_type": "stream",
     "text": [
      "C:\\Users\\Adireddy\\anaconda3\\Lib\\site-packages\\seaborn\\_oldcore.py:1119: FutureWarning: use_inf_as_na option is deprecated and will be removed in a future version. Convert inf values to NaN before operating instead.\n",
      "  with pd.option_context('mode.use_inf_as_na', True):\n"
     ]
    },
    {
     "data": {
      "text/plain": [
       "<Axes: xlabel='prevailing_wage', ylabel='Count'>"
      ]
     },
     "execution_count": 58,
     "metadata": {},
     "output_type": "execute_result"
    },
    {
     "data": {
      "image/png": "[encoded data removed]",
      "text/plain": [
       "<Figure size 640x480 with 1 Axes>"
      ]
     },
     "metadata": {},
     "output_type": "display_data"
    }
   ],
   "source": [
    "import seaborn as sns\n",
    "sns.histplot(visa_df['prevailing_wage'])"
   ]
  },
  {
   "cell_type": "code",
   "execution_count": 59,
   "id": "0cf34c38-90ae-4f60-b0a4-2fe89a64d872",
   "metadata": {},
   "outputs": [
    {
     "data": {
      "text/plain": [
       "<Axes: xlabel='prevailing_wage', ylabel='Density'>"
      ]
     },
     "execution_count": 59,
     "metadata": {},
     "output_type": "execute_result"
    },
    {
     "data": {
      "image/png": "[encoded data removed]",
      "text/plain": [
       "<Figure size 640x480 with 1 Axes>"
      ]
     },
     "metadata": {},
     "output_type": "display_data"
    }
   ],
   "source": [
    "import warnings\n",
    "warnings.filterwarnings(\"ignore\")\n",
    "sns.distplot(visa_df['prevailing_wage'])"
   ]
  },
  {
   "cell_type": "code",
   "execution_count": 61,
   "id": "0cfdff3f-fa3b-4a82-a8e9-30513218a7e6",
   "metadata": {},
   "outputs": [
    {
     "data": {
      "text/plain": [
       "<seaborn.axisgrid.FacetGrid at 0x12c0593be50>"
      ]
     },
     "execution_count": 61,
     "metadata": {},
     "output_type": "execute_result"
    },
    {
     "data": {
      "image/png": "[encoded data removed]",
      "text/plain": [
       "<Figure size 500x500 with 1 Axes>"
      ]
     },
     "metadata": {},
     "output_type": "display_data"
    }
   ],
   "source": [
    "sns.displot(visa_df['prevailing_wage'])"
   ]
  },
  {
   "cell_type": "code",
   "execution_count": null,
   "id": "9d4c7899-11c8-46cf-a210-42a0da0804dd",
   "metadata": {},
   "outputs": [],
   "source": []
  }
 ],
 "metadata": {
  "kernelspec": {
   "display_name": "Python 3 (ipykernel)",
   "language": "python",
   "name": "python3"
  },
  "language_info": {
   "codemirror_mode": {
    "name": "ipython",
    "version": 3
   },
   "file_extension": ".py",
   "mimetype": "text/x-python",
   "name": "python",
   "nbconvert_exporter": "python",
   "pygments_lexer": "ipython3",
   "version": "3.11.7"
  }
 },
 "nbformat": 4,
 "nbformat_minor": 5
}
